{
 "cells": [
  {
   "cell_type": "markdown",
   "id": "c276e907-e3f4-4cbf-9100-4dfecf8962fd",
   "metadata": {},
   "source": [
    "# **Data Quality Tool**"
   ]
  },
  {
   "cell_type": "markdown",
   "id": "99ac9735-2c4c-45bc-bbd6-49fd629113b0",
   "metadata": {},
   "source": [
    "## **Importation du fichier de données**"
   ]
  },
  {
   "cell_type": "code",
   "execution_count": 1,
   "id": "abe43b01-271b-41f8-8ded-4a4375451492",
   "metadata": {
    "jupyter": {
     "source_hidden": true
    },
    "tags": []
   },
   "outputs": [],
   "source": [
    "%reload_ext jupyter_dmdg\n",
    "import pandas as pd\n",
    "import os\n",
    "env = os.environ.get('Environment')"
   ]
  },
  {
   "cell_type": "code",
   "execution_count": 2,
   "id": "69b6f4e0-35d8-4588-887f-c0c41cc9a9e3",
   "metadata": {},
   "outputs": [],
   "source": [
    "%%athena_to_df --database f\"{env}-dmdg-workspace-public-man2-20221201134647177\" --out fichier\n",
    "select * from fichier"
   ]
  },
  {
   "cell_type": "code",
   "execution_count": 3,
   "id": "59d9375f-45c5-46da-8369-096ed8272717",
   "metadata": {},
   "outputs": [
    {
     "data": {
      "text/html": [
       "<div>\n",
       "<style scoped>\n",
       "    .dataframe tbody tr th:only-of-type {\n",
       "        vertical-align: middle;\n",
       "    }\n",
       "\n",
       "    .dataframe tbody tr th {\n",
       "        vertical-align: top;\n",
       "    }\n",
       "\n",
       "    .dataframe thead th {\n",
       "        text-align: right;\n",
       "    }\n",
       "</style>\n",
       "<table border=\"1\" class=\"dataframe\">\n",
       "  <thead>\n",
       "    <tr style=\"text-align: right;\">\n",
       "      <th></th>\n",
       "      <th>﻿analysis_name</th>\n",
       "      <th>analysis_description</th>\n",
       "      <th>common_name</th>\n",
       "      <th>common_name_2</th>\n",
       "      <th>analysis_type</th>\n",
       "      <th>analysis_type_2</th>\n",
       "      <th>batch_link</th>\n",
       "      <th>test_location</th>\n",
       "      <th>test_location_2</th>\n",
       "      <th>method_reference</th>\n",
       "      <th>reported_name</th>\n",
       "      <th>fr_reported_name</th>\n",
       "    </tr>\n",
       "  </thead>\n",
       "  <tbody>\n",
       "    <tr>\n",
       "      <th>0</th>\n",
       "      <td>NVL_BIOCONTA_ENV_CQ</td>\n",
       "      <td>Dénombrement de germes (Surface / Gants / Air ...</td>\n",
       "      <td>Microbiologic State Determination</td>\n",
       "      <td>MICROBIOLOGIC_STATE</td>\n",
       "      <td>Microbiological</td>\n",
       "      <td>MICROBIOLOGY</td>\n",
       "      <td>NVL_BIOCONTA_ENV</td>\n",
       "      <td>NVL_BACTERIO</td>\n",
       "      <td>NVL_BACTERIO</td>\n",
       "      <td>NVL-I-000536</td>\n",
       "      <td>Dénombrement de germes(S/G/AS/AR)-Données de s...</td>\n",
       "      <td>Dénombrement de germes (S / G / AS / AR) - Don...</td>\n",
       "    </tr>\n",
       "    <tr>\n",
       "      <th>1</th>\n",
       "      <td>NVL_BIOCONTA_ENV_CQ</td>\n",
       "      <td>Dénombrement de germes (Surface / Gants / Air ...</td>\n",
       "      <td>Microbiologic State Determination</td>\n",
       "      <td>MICROBIOLOGIC_STATE</td>\n",
       "      <td>Microbiological</td>\n",
       "      <td>MICROBIOLOGY</td>\n",
       "      <td>NVL_BIOCONTA_ENV</td>\n",
       "      <td>NVL_BACTERIO</td>\n",
       "      <td>NVL_BACTERIO</td>\n",
       "      <td>NVL-I-000536</td>\n",
       "      <td>Dénombrement de germes(S/G/AS/AR)-Données de s...</td>\n",
       "      <td>Dénombrement de germes (S / G / AS / AR) - Don...</td>\n",
       "    </tr>\n",
       "    <tr>\n",
       "      <th>2</th>\n",
       "      <td>NVL_BIOCONTA_ENV_CQ</td>\n",
       "      <td>Dénombrement de germes (Surface / Gants / Air ...</td>\n",
       "      <td>Microbiologic State Determination</td>\n",
       "      <td>MICROBIOLOGIC_STATE</td>\n",
       "      <td>Microbiological</td>\n",
       "      <td>MICROBIOLOGY</td>\n",
       "      <td>NVL_BIOCONTA_ENV</td>\n",
       "      <td>NVL_BACTERIO</td>\n",
       "      <td>NVL_BACTERIO</td>\n",
       "      <td>NVL-I-000536</td>\n",
       "      <td>Dénombrement de germes(S/G/AS/AR)-Données de s...</td>\n",
       "      <td>Dénombrement de germes (S / G / AS / AR) - Don...</td>\n",
       "    </tr>\n",
       "    <tr>\n",
       "      <th>3</th>\n",
       "      <td>NVL_BIOCONTA_ENV_CQ</td>\n",
       "      <td>Dénombrement de germes (Surface / Gants / Air ...</td>\n",
       "      <td>Microbiologic State Determination</td>\n",
       "      <td>MICROBIOLOGIC_STATE</td>\n",
       "      <td>Microbiological</td>\n",
       "      <td>MICROBIOLOGY</td>\n",
       "      <td>NVL_BIOCONTA_ENV</td>\n",
       "      <td>NVL_BACTERIO</td>\n",
       "      <td>NVL_BACTERIO</td>\n",
       "      <td>NVL-I-000536</td>\n",
       "      <td>Dénombrement de germes(S/G/AS/AR)-Données de s...</td>\n",
       "      <td>Dénombrement de germes (S / G / AS / AR) - Don...</td>\n",
       "    </tr>\n",
       "    <tr>\n",
       "      <th>4</th>\n",
       "      <td>NVL_BIOCONTA_ENV_CQ</td>\n",
       "      <td>Dénombrement de germes (Surface / Gants / Air ...</td>\n",
       "      <td>Microbiologic State Determination</td>\n",
       "      <td>MICROBIOLOGIC_STATE</td>\n",
       "      <td>Microbiological</td>\n",
       "      <td>MICROBIOLOGY</td>\n",
       "      <td>NVL_BIOCONTA_ENV</td>\n",
       "      <td>NVL_BACTERIO</td>\n",
       "      <td>NVL_BACTERIO</td>\n",
       "      <td>NVL-I-000536</td>\n",
       "      <td>Dénombrement de germes(S/G/AS/AR)-Données de s...</td>\n",
       "      <td>Dénombrement de germes (S / G / AS / AR) - Don...</td>\n",
       "    </tr>\n",
       "    <tr>\n",
       "      <th>...</th>\n",
       "      <td>...</td>\n",
       "      <td>...</td>\n",
       "      <td>...</td>\n",
       "      <td>...</td>\n",
       "      <td>...</td>\n",
       "      <td>...</td>\n",
       "      <td>...</td>\n",
       "      <td>...</td>\n",
       "      <td>...</td>\n",
       "      <td>...</td>\n",
       "      <td>...</td>\n",
       "      <td>...</td>\n",
       "    </tr>\n",
       "    <tr>\n",
       "      <th>60</th>\n",
       "      <td>NVL_IDENTIF_BL</td>\n",
       "      <td>Identification de microrganismes (bacteries et...</td>\n",
       "      <td>Identification of organisms</td>\n",
       "      <td>ID</td>\n",
       "      <td>Microbiological</td>\n",
       "      <td>MICROBIOLOGY</td>\n",
       "      <td>NVL_IDENTIF_BL</td>\n",
       "      <td>NVL_BACTERIO</td>\n",
       "      <td>NVL_BACTERIO</td>\n",
       "      <td>NVL-I-000372</td>\n",
       "      <td>Identif germes(bacterie-levure)-Donnée échanti...</td>\n",
       "      <td>Identification de microrganismes (bacteries et...</td>\n",
       "    </tr>\n",
       "    <tr>\n",
       "      <th>61</th>\n",
       "      <td>NVL_IDENTIF_M</td>\n",
       "      <td>Identification de microrganismes (moisissures)...</td>\n",
       "      <td>Identification of organisms</td>\n",
       "      <td>ID</td>\n",
       "      <td>Microbiological</td>\n",
       "      <td>MICROBIOLOGY</td>\n",
       "      <td>NVL_IDENTIF_M</td>\n",
       "      <td>NVL_BACTERIO</td>\n",
       "      <td>NVL_BACTERIO</td>\n",
       "      <td>NVL-I-000670</td>\n",
       "      <td>Identif germes (moisissures)-Donnée échantillon</td>\n",
       "      <td>Identification de microrganismes (moisissures)...</td>\n",
       "    </tr>\n",
       "    <tr>\n",
       "      <th>62</th>\n",
       "      <td>NVL_IDENTIF_M</td>\n",
       "      <td>Identification de microrganismes (moisissures)...</td>\n",
       "      <td>Identification of organisms</td>\n",
       "      <td>ID</td>\n",
       "      <td>Microbiological</td>\n",
       "      <td>MICROBIOLOGY</td>\n",
       "      <td>NVL_IDENTIF_M</td>\n",
       "      <td>NVL_BACTERIO</td>\n",
       "      <td>NVL_BACTERIO</td>\n",
       "      <td>NVL-I-000670</td>\n",
       "      <td>Identif germes (moisissures)-Donnée échantillon</td>\n",
       "      <td>Identification de microrganismes (moisissures)...</td>\n",
       "    </tr>\n",
       "    <tr>\n",
       "      <th>63</th>\n",
       "      <td>NVL_IDENTIF_M</td>\n",
       "      <td>Identification de microrganismes (moisissures)...</td>\n",
       "      <td>Identification of organisms</td>\n",
       "      <td>ID</td>\n",
       "      <td>Microbiological</td>\n",
       "      <td>MICROBIOLOGY</td>\n",
       "      <td>NVL_IDENTIF_M</td>\n",
       "      <td>NVL_BACTERIO</td>\n",
       "      <td>NVL_BACTERIO</td>\n",
       "      <td>NVL-I-000670</td>\n",
       "      <td>Identif germes (moisissures)-Donnée échantillon</td>\n",
       "      <td>Identification de microrganismes (moisissures)...</td>\n",
       "    </tr>\n",
       "    <tr>\n",
       "      <th>64</th>\n",
       "      <td>NVL_IDENTIF_M</td>\n",
       "      <td>Identification de microrganismes (moisissures)...</td>\n",
       "      <td>Identification of organisms</td>\n",
       "      <td>ID</td>\n",
       "      <td>Microbiological</td>\n",
       "      <td>MICROBIOLOGY</td>\n",
       "      <td>NVL_IDENTIF_M</td>\n",
       "      <td>NVL_BACTERIO</td>\n",
       "      <td>NVL_BACTERIO</td>\n",
       "      <td>NVL-I-000670</td>\n",
       "      <td>Identif germes (moisissures)-Donnée échantillon</td>\n",
       "      <td>Identification de microrganismes (moisissures)...</td>\n",
       "    </tr>\n",
       "  </tbody>\n",
       "</table>\n",
       "<p>65 rows × 12 columns</p>\n",
       "</div>"
      ],
      "text/plain": [
       "         ﻿analysis_name                               analysis_description  \\\n",
       "0   NVL_BIOCONTA_ENV_CQ  Dénombrement de germes (Surface / Gants / Air ...   \n",
       "1   NVL_BIOCONTA_ENV_CQ  Dénombrement de germes (Surface / Gants / Air ...   \n",
       "2   NVL_BIOCONTA_ENV_CQ  Dénombrement de germes (Surface / Gants / Air ...   \n",
       "3   NVL_BIOCONTA_ENV_CQ  Dénombrement de germes (Surface / Gants / Air ...   \n",
       "4   NVL_BIOCONTA_ENV_CQ  Dénombrement de germes (Surface / Gants / Air ...   \n",
       "..                  ...                                                ...   \n",
       "60       NVL_IDENTIF_BL  Identification de microrganismes (bacteries et...   \n",
       "61        NVL_IDENTIF_M  Identification de microrganismes (moisissures)...   \n",
       "62        NVL_IDENTIF_M  Identification de microrganismes (moisissures)...   \n",
       "63        NVL_IDENTIF_M  Identification de microrganismes (moisissures)...   \n",
       "64        NVL_IDENTIF_M  Identification de microrganismes (moisissures)...   \n",
       "\n",
       "                          common_name        common_name_2    analysis_type  \\\n",
       "0   Microbiologic State Determination  MICROBIOLOGIC_STATE  Microbiological   \n",
       "1   Microbiologic State Determination  MICROBIOLOGIC_STATE  Microbiological   \n",
       "2   Microbiologic State Determination  MICROBIOLOGIC_STATE  Microbiological   \n",
       "3   Microbiologic State Determination  MICROBIOLOGIC_STATE  Microbiological   \n",
       "4   Microbiologic State Determination  MICROBIOLOGIC_STATE  Microbiological   \n",
       "..                                ...                  ...              ...   \n",
       "60        Identification of organisms                   ID  Microbiological   \n",
       "61        Identification of organisms                   ID  Microbiological   \n",
       "62        Identification of organisms                   ID  Microbiological   \n",
       "63        Identification of organisms                   ID  Microbiological   \n",
       "64        Identification of organisms                   ID  Microbiological   \n",
       "\n",
       "   analysis_type_2        batch_link test_location test_location_2  \\\n",
       "0     MICROBIOLOGY  NVL_BIOCONTA_ENV  NVL_BACTERIO    NVL_BACTERIO   \n",
       "1     MICROBIOLOGY  NVL_BIOCONTA_ENV  NVL_BACTERIO    NVL_BACTERIO   \n",
       "2     MICROBIOLOGY  NVL_BIOCONTA_ENV  NVL_BACTERIO    NVL_BACTERIO   \n",
       "3     MICROBIOLOGY  NVL_BIOCONTA_ENV  NVL_BACTERIO    NVL_BACTERIO   \n",
       "4     MICROBIOLOGY  NVL_BIOCONTA_ENV  NVL_BACTERIO    NVL_BACTERIO   \n",
       "..             ...               ...           ...             ...   \n",
       "60    MICROBIOLOGY    NVL_IDENTIF_BL  NVL_BACTERIO    NVL_BACTERIO   \n",
       "61    MICROBIOLOGY     NVL_IDENTIF_M  NVL_BACTERIO    NVL_BACTERIO   \n",
       "62    MICROBIOLOGY     NVL_IDENTIF_M  NVL_BACTERIO    NVL_BACTERIO   \n",
       "63    MICROBIOLOGY     NVL_IDENTIF_M  NVL_BACTERIO    NVL_BACTERIO   \n",
       "64    MICROBIOLOGY     NVL_IDENTIF_M  NVL_BACTERIO    NVL_BACTERIO   \n",
       "\n",
       "   method_reference                                      reported_name  \\\n",
       "0      NVL-I-000536  Dénombrement de germes(S/G/AS/AR)-Données de s...   \n",
       "1      NVL-I-000536  Dénombrement de germes(S/G/AS/AR)-Données de s...   \n",
       "2      NVL-I-000536  Dénombrement de germes(S/G/AS/AR)-Données de s...   \n",
       "3      NVL-I-000536  Dénombrement de germes(S/G/AS/AR)-Données de s...   \n",
       "4      NVL-I-000536  Dénombrement de germes(S/G/AS/AR)-Données de s...   \n",
       "..              ...                                                ...   \n",
       "60     NVL-I-000372  Identif germes(bacterie-levure)-Donnée échanti...   \n",
       "61     NVL-I-000670    Identif germes (moisissures)-Donnée échantillon   \n",
       "62     NVL-I-000670    Identif germes (moisissures)-Donnée échantillon   \n",
       "63     NVL-I-000670    Identif germes (moisissures)-Donnée échantillon   \n",
       "64     NVL-I-000670    Identif germes (moisissures)-Donnée échantillon   \n",
       "\n",
       "                                     fr_reported_name  \n",
       "0   Dénombrement de germes (S / G / AS / AR) - Don...  \n",
       "1   Dénombrement de germes (S / G / AS / AR) - Don...  \n",
       "2   Dénombrement de germes (S / G / AS / AR) - Don...  \n",
       "3   Dénombrement de germes (S / G / AS / AR) - Don...  \n",
       "4   Dénombrement de germes (S / G / AS / AR) - Don...  \n",
       "..                                                ...  \n",
       "60  Identification de microrganismes (bacteries et...  \n",
       "61  Identification de microrganismes (moisissures)...  \n",
       "62  Identification de microrganismes (moisissures)...  \n",
       "63  Identification de microrganismes (moisissures)...  \n",
       "64  Identification de microrganismes (moisissures)...  \n",
       "\n",
       "[65 rows x 12 columns]"
      ]
     },
     "execution_count": 3,
     "metadata": {},
     "output_type": "execute_result"
    }
   ],
   "source": [
    "fichier"
   ]
  },
  {
   "cell_type": "markdown",
   "id": "d922969f-1333-477f-b92a-f90b09ca72fc",
   "metadata": {},
   "source": [
    "## **Importation de la base de données des structures**"
   ]
  },
  {
   "cell_type": "code",
   "execution_count": 47,
   "id": "ad055827-7117-4013-b85f-2928cd96bc0b",
   "metadata": {},
   "outputs": [],
   "source": [
    "%reload_ext jupyter_dmdg\n",
    "import pandas as pd\n",
    "import os\n",
    "env = os.environ.get('Environment')"
   ]
  },
  {
   "cell_type": "code",
   "execution_count": 48,
   "id": "ca3ddbe5-46a0-4fc7-a920-62642904e39e",
   "metadata": {},
   "outputs": [],
   "source": [
    "%%athena_to_df --database f\"{env}-dmdg-workspace-public-man2-20221201134647177\" --out database_def\n",
    "select * from database_def"
   ]
  },
  {
   "cell_type": "code",
   "execution_count": 49,
   "id": "dd337454-6350-4d17-be66-4ad3461344d2",
   "metadata": {},
   "outputs": [
    {
     "data": {
      "text/html": [
       "<div>\n",
       "<style scoped>\n",
       "    .dataframe tbody tr th:only-of-type {\n",
       "        vertical-align: middle;\n",
       "    }\n",
       "\n",
       "    .dataframe tbody tr th {\n",
       "        vertical-align: top;\n",
       "    }\n",
       "\n",
       "    .dataframe thead th {\n",
       "        text-align: right;\n",
       "    }\n",
       "</style>\n",
       "<table border=\"1\" class=\"dataframe\">\n",
       "  <thead>\n",
       "    <tr style=\"text-align: right;\">\n",
       "      <th></th>\n",
       "      <th>﻿domaine</th>\n",
       "      <th>structure</th>\n",
       "    </tr>\n",
       "  </thead>\n",
       "  <tbody>\n",
       "    <tr>\n",
       "      <th>0</th>\n",
       "      <td>Analysis name Onelims</td>\n",
       "      <td>^[A-Z]{3}_[A-Z]{1,8}_[A-Z]{1,3}(_[A-Z]{1,3})?$</td>\n",
       "    </tr>\n",
       "    <tr>\n",
       "      <th>1</th>\n",
       "      <td>Format date aaaa-mm-jj</td>\n",
       "      <td>^\\d{4}-\\d{2}-\\d{2}$</td>\n",
       "    </tr>\n",
       "  </tbody>\n",
       "</table>\n",
       "</div>"
      ],
      "text/plain": [
       "                 ﻿domaine                                       structure\n",
       "0   Analysis name Onelims  ^[A-Z]{3}_[A-Z]{1,8}_[A-Z]{1,3}(_[A-Z]{1,3})?$\n",
       "1  Format date aaaa-mm-jj                             ^\\d{4}-\\d{2}-\\d{2}$"
      ]
     },
     "execution_count": 49,
     "metadata": {},
     "output_type": "execute_result"
    }
   ],
   "source": [
    "database_def"
   ]
  },
  {
   "cell_type": "markdown",
   "id": "5577dfe0-de4c-4b81-9b80-28ec2c6893fa",
   "metadata": {},
   "source": [
    "## **Vérification de la codification d'une convention de nommage**"
   ]
  },
  {
   "cell_type": "code",
   "execution_count": 3,
   "id": "c03e4a0f-e854-4268-97f2-e277f1bba95f",
   "metadata": {},
   "outputs": [
    {
     "data": {
      "text/plain": [
       "True"
      ]
     },
     "execution_count": 3,
     "metadata": {},
     "output_type": "execute_result"
    }
   ],
   "source": [
    "#Pour vérifier si la structure créée est correcte pour un exemple de donnée\n",
    "import re\n",
    "def verif_structure(structure, donnee):\n",
    "    if not re.match(structure, donnee):\n",
    "        return False\n",
    "    return True\n",
    "#La structure doit être encadré par r'....'\n",
    "structure = r'^\\d{4}-\\d{2}-\\d{2}$'\n",
    "verif_structure(structure,'2222-77-22')"
   ]
  },
  {
   "cell_type": "markdown",
   "id": "74692111-ea2e-4343-98b9-cde89ca57b8c",
   "metadata": {},
   "source": [
    "## **Vérification de la structure des données**"
   ]
  },
  {
   "cell_type": "code",
   "execution_count": 52,
   "id": "6afec180-02a5-4f52-84a5-b668cc1f51d5",
   "metadata": {},
   "outputs": [
    {
     "name": "stdout",
     "output_type": "stream",
     "text": [
      "Index(['﻿analysis_name', 'analysis_description', 'common_name',\n",
      "       'common_name_2', 'analysis_type', 'analysis_type_2', 'batch_link',\n",
      "       'test_location', 'test_location_2', 'method_reference', 'reported_name',\n",
      "       'fr_reported_name'],\n",
      "      dtype='object')\n"
     ]
    },
    {
     "name": "stdin",
     "output_type": "stream",
     "text": [
      "Saisir l'index de la colonne contenant les données : 0\n"
     ]
    },
    {
     "name": "stdout",
     "output_type": "stream",
     "text": [
      "0     Analysis name Onelims\n",
      "1    Format date aaaa-mm-jj\n",
      "Name: ﻿domaine, dtype: string\n"
     ]
    },
    {
     "name": "stdin",
     "output_type": "stream",
     "text": [
      "Entrez l'indice du domaine de données :  0\n"
     ]
    },
    {
     "name": "stdout",
     "output_type": "stream",
     "text": [
      "Les données sont conformes à la structure de référence.\n"
     ]
    }
   ],
   "source": [
    "import re\n",
    "\n",
    "def verif_structure():\n",
    "    T=[]\n",
    "    print(fichier.keys())\n",
    "    db_column = int(input(\"Saisir l'index de la colonne contenant les données :\"))\n",
    "    db_column = fichier.iloc[:,db_column]\n",
    "    db_column = list(db_column)\n",
    "    structure = database_def['structure']\n",
    "    structure = list(structure)\n",
    "    domaine = database_def.iloc[:,0]\n",
    "    print(domaine)\n",
    "    d = int(input(\"Entrez l'indice du domaine de données : \"))\n",
    "    s = structure[d]\n",
    "    for donnee in db_column:\n",
    "        if not re.match(s,donnee):\n",
    "            T.append(donnee)\n",
    "    if T!=[]: \n",
    "        print(T)\n",
    "        return False\n",
    "    else:\n",
    "        return True\n",
    "\n",
    "if verif_structure():\n",
    "    print(\"Les données sont conformes à la structure de référence.\")\n",
    "else:\n",
    "    print(\"Ces données ne sont pas conformes à la structure de référence.\")"
   ]
  },
  {
   "cell_type": "markdown",
   "id": "ee58c495-0765-458e-821e-a730cf5e34c1",
   "metadata": {},
   "source": [
    "## **Vérification de l'unicité des tags**"
   ]
  },
  {
   "cell_type": "code",
   "execution_count": 29,
   "id": "fa6e18d6-e3b0-44b0-8eee-65c7533e1ec1",
   "metadata": {},
   "outputs": [
    {
     "name": "stdout",
     "output_type": "stream",
     "text": [
      "Index(['﻿analysis_name', 'analysis_description', 'common_name',\n",
      "       'common_name_2', 'analysis_type', 'analysis_type_2', 'batch_link',\n",
      "       'test_location', 'test_location_2', 'method_reference', 'reported_name',\n",
      "       'fr_reported_name'],\n",
      "      dtype='object')\n"
     ]
    },
    {
     "name": "stdin",
     "output_type": "stream",
     "text": [
      "Saisir l'index de la colonne contenant les données : 0\n"
     ]
    },
    {
     "name": "stdout",
     "output_type": "stream",
     "text": [
      "Les données ne sont pas uniques\n"
     ]
    }
   ],
   "source": [
    "def unicite():\n",
    "    print(fichier.keys())\n",
    "    db_column = int(input(\"Saisir l'index de la colonne contenant les données :\"))\n",
    "    db_column = fichier.iloc[:,db_column]\n",
    "    T = db_column.unique()\n",
    "    if len(fichier)==len(T):\n",
    "        return (\"Les données sont uniques\")\n",
    "    else : \n",
    "        return (\"Les données ne sont pas uniques\")\n",
    "\n",
    "print(unicite())"
   ]
  },
  {
   "cell_type": "code",
   "execution_count": null,
   "id": "07f29a73-e766-4915-931c-ad9f933eb4c8",
   "metadata": {},
   "outputs": [],
   "source": []
  }
 ],
 "metadata": {
  "kernelspec": {
   "display_name": "Python 3",
   "language": "python",
   "name": "python3"
  },
  "language_info": {
   "codemirror_mode": {
    "name": "ipython",
    "version": 3
   },
   "file_extension": ".py",
   "mimetype": "text/x-python",
   "name": "python",
   "nbconvert_exporter": "python",
   "pygments_lexer": "ipython3",
   "version": "3.9.2"
  }
 },
 "nbformat": 4,
 "nbformat_minor": 5
}
